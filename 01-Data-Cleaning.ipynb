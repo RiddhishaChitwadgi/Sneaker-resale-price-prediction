{
 "cells": [
  {
   "cell_type": "code",
   "execution_count": 119,
   "metadata": {},
   "outputs": [],
   "source": [
    "import pandas as pd"
   ]
  },
  {
   "cell_type": "code",
   "execution_count": 120,
   "metadata": {},
   "outputs": [],
   "source": [
    "df0 = pd.read_csv('3.csv')"
   ]
  },
  {
   "cell_type": "code",
   "execution_count": 121,
   "metadata": {},
   "outputs": [
    {
     "data": {
      "text/html": [
       "<div>\n",
       "<style scoped>\n",
       "    .dataframe tbody tr th:only-of-type {\n",
       "        vertical-align: middle;\n",
       "    }\n",
       "\n",
       "    .dataframe tbody tr th {\n",
       "        vertical-align: top;\n",
       "    }\n",
       "\n",
       "    .dataframe thead th {\n",
       "        text-align: right;\n",
       "    }\n",
       "</style>\n",
       "<table border=\"1\" class=\"dataframe\">\n",
       "  <thead>\n",
       "    <tr style=\"text-align: right;\">\n",
       "      <th></th>\n",
       "      <th>SKU</th>\n",
       "      <th>CONDITION</th>\n",
       "      <th>SIZE</th>\n",
       "      <th>GENDER</th>\n",
       "      <th>SOLD_AT</th>\n",
       "      <th>SOLD_PRICE</th>\n",
       "      <th>SOURCE</th>\n",
       "      <th>SIZE_VALUE</th>\n",
       "      <th>BRAND</th>\n",
       "      <th>NAME</th>\n",
       "      <th>COLORWAY</th>\n",
       "      <th>COLOR</th>\n",
       "      <th>SILHOUETTE</th>\n",
       "      <th>RETAILPRICE</th>\n",
       "      <th>RELEASEDATE</th>\n",
       "      <th>IS_COLLAB</th>\n",
       "      <th>COLLABORATOR</th>\n",
       "    </tr>\n",
       "  </thead>\n",
       "  <tbody>\n",
       "    <tr>\n",
       "      <th>0</th>\n",
       "      <td>555088-702</td>\n",
       "      <td>is_new</td>\n",
       "      <td>8.5</td>\n",
       "      <td>men</td>\n",
       "      <td>2023-01-25T14:24:20Z</td>\n",
       "      <td>128.0</td>\n",
       "      <td>stockx</td>\n",
       "      <td>8.5</td>\n",
       "      <td>Jordan</td>\n",
       "      <td>Jordan 1 Retro High OG Visionaire</td>\n",
       "      <td>Volt/Black/Sail</td>\n",
       "      <td>green</td>\n",
       "      <td>Air Jordan 1</td>\n",
       "      <td>170.0</td>\n",
       "      <td>2022-06-11</td>\n",
       "      <td>False</td>\n",
       "      <td>NaN</td>\n",
       "    </tr>\n",
       "    <tr>\n",
       "      <th>1</th>\n",
       "      <td>EF2829</td>\n",
       "      <td>is_new</td>\n",
       "      <td>7.5</td>\n",
       "      <td>men</td>\n",
       "      <td>2022-03-12T17:39:45Z</td>\n",
       "      <td>340.0</td>\n",
       "      <td>stockx</td>\n",
       "      <td>7.5</td>\n",
       "      <td>adidas</td>\n",
       "      <td>adidas Yeezy Boost 700 V2 Static (2018/2022)</td>\n",
       "      <td>Static/Static/Static</td>\n",
       "      <td>grey</td>\n",
       "      <td>Yeezy Boost 700</td>\n",
       "      <td>300.0</td>\n",
       "      <td>2018-12-29</td>\n",
       "      <td>True</td>\n",
       "      <td>kanye west</td>\n",
       "    </tr>\n",
       "    <tr>\n",
       "      <th>2</th>\n",
       "      <td>GX2086</td>\n",
       "      <td>Brand New</td>\n",
       "      <td>11.5</td>\n",
       "      <td>men</td>\n",
       "      <td>2023-07-01T00:00:00Z</td>\n",
       "      <td>99.0</td>\n",
       "      <td>ebay</td>\n",
       "      <td>11.5</td>\n",
       "      <td>adidas</td>\n",
       "      <td>adidas NMD R1 V3 Crystal White Blue Rush</td>\n",
       "      <td>Crystal White/Cloud White/Blue Rush</td>\n",
       "      <td>white</td>\n",
       "      <td>NMD_V3</td>\n",
       "      <td>160.0</td>\n",
       "      <td>2022-09-20</td>\n",
       "      <td>False</td>\n",
       "      <td>NaN</td>\n",
       "    </tr>\n",
       "    <tr>\n",
       "      <th>3</th>\n",
       "      <td>DH7863-100</td>\n",
       "      <td>is_new</td>\n",
       "      <td>11</td>\n",
       "      <td>men</td>\n",
       "      <td>2022-05-02T18:12:39Z</td>\n",
       "      <td>190.0</td>\n",
       "      <td>stockx</td>\n",
       "      <td>11.0</td>\n",
       "      <td>Nike</td>\n",
       "      <td>Nike Blazer Low Off-White University Red</td>\n",
       "      <td>White/University Red/Off White</td>\n",
       "      <td>red</td>\n",
       "      <td>Blazer</td>\n",
       "      <td>140.0</td>\n",
       "      <td>2022-04-08</td>\n",
       "      <td>False</td>\n",
       "      <td>NaN</td>\n",
       "    </tr>\n",
       "    <tr>\n",
       "      <th>4</th>\n",
       "      <td>CD8180-100</td>\n",
       "      <td>is_new</td>\n",
       "      <td>5.5W</td>\n",
       "      <td>women</td>\n",
       "      <td>2022-04-15T17:49:50Z</td>\n",
       "      <td>150.0</td>\n",
       "      <td>stockx</td>\n",
       "      <td>5.5</td>\n",
       "      <td>Nike</td>\n",
       "      <td>Nike Waffle Racer Off-White White (Women's)</td>\n",
       "      <td>White/Electric Green-Black</td>\n",
       "      <td>green</td>\n",
       "      <td>Waffle Racer</td>\n",
       "      <td>150.0</td>\n",
       "      <td>2019-12-12</td>\n",
       "      <td>False</td>\n",
       "      <td>NaN</td>\n",
       "    </tr>\n",
       "  </tbody>\n",
       "</table>\n",
       "</div>"
      ],
      "text/plain": [
       "          SKU  CONDITION  SIZE GENDER               SOLD_AT  SOLD_PRICE  \\\n",
       "0  555088-702     is_new   8.5    men  2023-01-25T14:24:20Z       128.0   \n",
       "1      EF2829     is_new   7.5    men  2022-03-12T17:39:45Z       340.0   \n",
       "2      GX2086  Brand New  11.5    men  2023-07-01T00:00:00Z        99.0   \n",
       "3  DH7863-100     is_new    11    men  2022-05-02T18:12:39Z       190.0   \n",
       "4  CD8180-100     is_new  5.5W  women  2022-04-15T17:49:50Z       150.0   \n",
       "\n",
       "   SOURCE  SIZE_VALUE   BRAND                                          NAME  \\\n",
       "0  stockx         8.5  Jordan             Jordan 1 Retro High OG Visionaire   \n",
       "1  stockx         7.5  adidas  adidas Yeezy Boost 700 V2 Static (2018/2022)   \n",
       "2    ebay        11.5  adidas      adidas NMD R1 V3 Crystal White Blue Rush   \n",
       "3  stockx        11.0    Nike      Nike Blazer Low Off-White University Red   \n",
       "4  stockx         5.5    Nike   Nike Waffle Racer Off-White White (Women's)   \n",
       "\n",
       "                              COLORWAY  COLOR       SILHOUETTE  RETAILPRICE  \\\n",
       "0                      Volt/Black/Sail  green     Air Jordan 1        170.0   \n",
       "1                 Static/Static/Static   grey  Yeezy Boost 700        300.0   \n",
       "2  Crystal White/Cloud White/Blue Rush  white           NMD_V3        160.0   \n",
       "3       White/University Red/Off White    red           Blazer        140.0   \n",
       "4           White/Electric Green-Black  green     Waffle Racer        150.0   \n",
       "\n",
       "  RELEASEDATE IS_COLLAB COLLABORATOR  \n",
       "0  2022-06-11     False          NaN  \n",
       "1  2018-12-29      True   kanye west  \n",
       "2  2022-09-20     False          NaN  \n",
       "3  2022-04-08     False          NaN  \n",
       "4  2019-12-12     False          NaN  "
      ]
     },
     "execution_count": 121,
     "metadata": {},
     "output_type": "execute_result"
    }
   ],
   "source": [
    "df0.head()"
   ]
  },
  {
   "cell_type": "code",
   "execution_count": 122,
   "metadata": {},
   "outputs": [
    {
     "name": "stdout",
     "output_type": "stream",
     "text": [
      "<class 'pandas.core.frame.DataFrame'>\n",
      "RangeIndex: 6122327 entries, 0 to 6122326\n",
      "Data columns (total 17 columns):\n",
      " #   Column        Dtype  \n",
      "---  ------        -----  \n",
      " 0   SKU           object \n",
      " 1   CONDITION     object \n",
      " 2   SIZE          object \n",
      " 3   GENDER        object \n",
      " 4   SOLD_AT       object \n",
      " 5   SOLD_PRICE    float64\n",
      " 6   SOURCE        object \n",
      " 7   SIZE_VALUE    float64\n",
      " 8   BRAND         object \n",
      " 9   NAME          object \n",
      " 10  COLORWAY      object \n",
      " 11  COLOR         object \n",
      " 12  SILHOUETTE    object \n",
      " 13  RETAILPRICE   float64\n",
      " 14  RELEASEDATE   object \n",
      " 15  IS_COLLAB     object \n",
      " 16  COLLABORATOR  object \n",
      "dtypes: float64(3), object(14)\n",
      "memory usage: 794.1+ MB\n"
     ]
    }
   ],
   "source": [
    "df0.info()"
   ]
  },
  {
   "cell_type": "code",
   "execution_count": 123,
   "metadata": {},
   "outputs": [
    {
     "name": "stdout",
     "output_type": "stream",
     "text": [
      "SKU               16974\n",
      "CONDITION             0\n",
      "SIZE              53096\n",
      "GENDER            22630\n",
      "SOLD_AT               0\n",
      "SOLD_PRICE            0\n",
      "SOURCE                0\n",
      "SIZE_VALUE        85522\n",
      "BRAND             22630\n",
      "NAME              22630\n",
      "COLORWAY          25370\n",
      "COLOR             25370\n",
      "SILHOUETTE        22686\n",
      "RETAILPRICE       22630\n",
      "RELEASEDATE       85234\n",
      "IS_COLLAB         22619\n",
      "COLLABORATOR    5260036\n",
      "dtype: int64\n"
     ]
    }
   ],
   "source": [
    "# Calculate the number of null values in each column of DataFrame df0\n",
    "null_counts = df0.isnull().sum()\n",
    "print(null_counts)"
   ]
  },
  {
   "cell_type": "code",
   "execution_count": 124,
   "metadata": {},
   "outputs": [
    {
     "name": "stdout",
     "output_type": "stream",
     "text": [
      "          Column  Null Percentage\n",
      "0            SKU             0.28\n",
      "1      CONDITION             0.00\n",
      "2           SIZE             0.87\n",
      "3         GENDER             0.37\n",
      "4        SOLD_AT             0.00\n",
      "5     SOLD_PRICE             0.00\n",
      "6         SOURCE             0.00\n",
      "7     SIZE_VALUE             1.40\n",
      "8          BRAND             0.37\n",
      "9           NAME             0.37\n",
      "10      COLORWAY             0.41\n",
      "11         COLOR             0.41\n",
      "12    SILHOUETTE             0.37\n",
      "13   RETAILPRICE             0.37\n",
      "14   RELEASEDATE             1.39\n",
      "15     IS_COLLAB             0.37\n",
      "16  COLLABORATOR            85.92\n"
     ]
    }
   ],
   "source": [
    "# Calculate the percentage of null values for each column\n",
    "null_percentage = (df0.isnull().sum() / len(df0)) * 100\n",
    "\n",
    "# Create a DataFrame to display the results\n",
    "null_percentage_df = pd.DataFrame({\n",
    "    'Column': null_percentage.index,\n",
    "    'Null Percentage': null_percentage.values.round(2)\n",
    "})\n",
    "\n",
    "# Print the null percentage DataFrame\n",
    "print(null_percentage_df)"
   ]
  },
  {
   "cell_type": "code",
   "execution_count": 125,
   "metadata": {},
   "outputs": [],
   "source": [
    "df = df0.dropna(subset=['SKU', 'NAME', 'SIZE_VALUE', 'RELEASEDATE', 'COLORWAY', 'SILHOUETTE'], inplace=True)"
   ]
  },
  {
   "cell_type": "code",
   "execution_count": 126,
   "metadata": {},
   "outputs": [],
   "source": [
    "#Dropping unecessary column\n",
    "df = df0.drop(columns=['SIZE'])"
   ]
  },
  {
   "cell_type": "code",
   "execution_count": 127,
   "metadata": {},
   "outputs": [],
   "source": [
    "# Removing duplicates\n",
    "df = df.drop_duplicates()"
   ]
  },
  {
   "cell_type": "code",
   "execution_count": 128,
   "metadata": {},
   "outputs": [],
   "source": [
    "# Try parsing with timezone information\n",
    "df['SOLD_AT'] = pd.to_datetime(df['SOLD_AT'], format='ISO8601', errors='coerce')\n",
    "\n",
    "df['RELEASEDATE'] = pd.to_datetime(df['RELEASEDATE'], format='%Y-%m-%d', errors='coerce')"
   ]
  },
  {
   "cell_type": "code",
   "execution_count": 129,
   "metadata": {},
   "outputs": [],
   "source": [
    "# Convert the 'IS_COLLAB' column in the DataFrame 'df' to boolean\n",
    "df['IS_COLLAB'] = df['IS_COLLAB'].astype(bool)"
   ]
  },
  {
   "cell_type": "code",
   "execution_count": 130,
   "metadata": {},
   "outputs": [],
   "source": [
    "# Update 'COLLABORATOR' to 'None' where 'IS_COLLAB' is False\n",
    "df.loc[df['IS_COLLAB'] == False, 'COLLABORATOR'] = 'None'"
   ]
  },
  {
   "cell_type": "code",
   "execution_count": 131,
   "metadata": {},
   "outputs": [
    {
     "name": "stdout",
     "output_type": "stream",
     "text": [
      "Number of null values in 'COLLABORATOR' where 'IS_COLLAB' is True: 117180\n"
     ]
    }
   ],
   "source": [
    "# Count null values in 'COLLABORATOR' where 'IS_COLLAB' is True\n",
    "null_collaborator_count = df.loc[df['IS_COLLAB'] == 1, 'COLLABORATOR'].isnull().sum()\n",
    "\n",
    "# Print the result\n",
    "print(f\"Number of null values in 'COLLABORATOR' where 'IS_COLLAB' is True: {null_collaborator_count}\")"
   ]
  },
  {
   "cell_type": "code",
   "execution_count": 132,
   "metadata": {},
   "outputs": [],
   "source": [
    "# Identify rows with null \"COLLABORATOR\"\n",
    "null_collaborator_rows = df[df['COLLABORATOR'].isnull()]\n",
    "# Generate distinct values for \"COLLABORATOR\" based on \"SKU\"\n",
    "distinct_collaborator_values = null_collaborator_rows['SKU'].unique()\n",
    "# Replace null \"COLLABORATOR\" values with distinct \"SKU\" values\n",
    "df.loc[df['COLLABORATOR'].isnull(), 'COLLABORATOR'] = df.loc[df['COLLABORATOR'].isnull(), 'SKU'].apply(lambda x:distinct_collaborator_values[0])"
   ]
  },
  {
   "cell_type": "code",
   "execution_count": 133,
   "metadata": {},
   "outputs": [
    {
     "name": "stdout",
     "output_type": "stream",
     "text": [
      "Number of null values in 'COLLABORATOR' where 'IS_COLLAB' is True: 0\n"
     ]
    }
   ],
   "source": [
    "# Count null values in 'COLLABORATOR' where 'IS_COLLAB' is True\n",
    "null_collaborator_count = df.loc[df['IS_COLLAB'] == 1, 'COLLABORATOR'].isnull().sum()\n",
    "\n",
    "# Print the result\n",
    "print(f\"Number of null values in 'COLLABORATOR' where 'IS_COLLAB' is True: {null_collaborator_count}\")"
   ]
  },
  {
   "cell_type": "code",
   "execution_count": 134,
   "metadata": {},
   "outputs": [
    {
     "name": "stdout",
     "output_type": "stream",
     "text": [
      "     SIZE_VALUE     GENDER  count\n",
      "0           0.0      child     32\n",
      "1           0.0     infant   1130\n",
      "2           0.0        men    199\n",
      "3           0.0  preschool      6\n",
      "4           0.0    toddler   1792\n",
      "..          ...        ...    ...\n",
      "248        19.5        men      3\n",
      "249        20.0        men     14\n",
      "250        27.0      youth      1\n",
      "251        31.0        men      1\n",
      "252        44.0        men      1\n",
      "\n",
      "[253 rows x 3 columns]\n"
     ]
    }
   ],
   "source": [
    "pairs_count = df.groupby(['SIZE_VALUE', 'GENDER']).size().reset_index(name='count')\n",
    "print(pairs_count)"
   ]
  },
  {
   "cell_type": "code",
   "execution_count": 135,
   "metadata": {},
   "outputs": [],
   "source": [
    "#removes rows from the DataFrame where the 'SIZE_VALUE' column contains values greater than 16.0.\n",
    "df.drop(df[df['SIZE_VALUE'] > 16.0].index, inplace=True)"
   ]
  },
  {
   "cell_type": "code",
   "execution_count": 136,
   "metadata": {},
   "outputs": [],
   "source": [
    "# Run the code to change the gender\n",
    "child_indices = df[(df['SIZE_VALUE'] < 6) & (df['GENDER'] == 'men')].index\n",
    "df.loc[child_indices, 'GENDER'] = 'child'"
   ]
  },
  {
   "cell_type": "code",
   "execution_count": 137,
   "metadata": {},
   "outputs": [],
   "source": [
    "# Run the code to change the gender\n",
    "child_indices = df[(df['SIZE_VALUE'] < 6) & (df['GENDER'] == 'unisex')].index\n",
    "df.loc[child_indices, 'GENDER'] = 'child'\n"
   ]
  },
  {
   "cell_type": "code",
   "execution_count": 138,
   "metadata": {},
   "outputs": [],
   "source": [
    "# Run the code to change the gender\n",
    "child_indices = df[(df['SIZE_VALUE'] < 4) & (df['GENDER'] == 'women')].index\n",
    "df.loc[child_indices, 'GENDER'] = 'child'"
   ]
  },
  {
   "cell_type": "code",
   "execution_count": 139,
   "metadata": {},
   "outputs": [],
   "source": [
    "# Convert 'SIZE_VALUE' to a categorical variable\n",
    "df['SIZE_VALUE'] = df['SIZE_VALUE'].astype('category')"
   ]
  },
  {
   "cell_type": "code",
   "execution_count": 140,
   "metadata": {},
   "outputs": [
    {
     "data": {
      "text/plain": [
       "SKU             0\n",
       "CONDITION       0\n",
       "GENDER          0\n",
       "SOLD_AT         0\n",
       "SOLD_PRICE      0\n",
       "SOURCE          0\n",
       "SIZE_VALUE      0\n",
       "BRAND           0\n",
       "NAME            0\n",
       "COLORWAY        0\n",
       "COLOR           0\n",
       "SILHOUETTE      0\n",
       "RETAILPRICE     0\n",
       "RELEASEDATE     0\n",
       "IS_COLLAB       0\n",
       "COLLABORATOR    0\n",
       "dtype: int64"
      ]
     },
     "execution_count": 140,
     "metadata": {},
     "output_type": "execute_result"
    }
   ],
   "source": [
    "df.isnull().sum()"
   ]
  },
  {
   "cell_type": "code",
   "execution_count": 141,
   "metadata": {},
   "outputs": [
    {
     "name": "stdout",
     "output_type": "stream",
     "text": [
      "<class 'pandas.core.frame.DataFrame'>\n",
      "Index: 5946878 entries, 0 to 6122326\n",
      "Data columns (total 16 columns):\n",
      " #   Column        Dtype              \n",
      "---  ------        -----              \n",
      " 0   SKU           object             \n",
      " 1   CONDITION     object             \n",
      " 2   GENDER        object             \n",
      " 3   SOLD_AT       datetime64[ns, UTC]\n",
      " 4   SOLD_PRICE    float64            \n",
      " 5   SOURCE        object             \n",
      " 6   SIZE_VALUE    category           \n",
      " 7   BRAND         object             \n",
      " 8   NAME          object             \n",
      " 9   COLORWAY      object             \n",
      " 10  COLOR         object             \n",
      " 11  SILHOUETTE    object             \n",
      " 12  RETAILPRICE   float64            \n",
      " 13  RELEASEDATE   datetime64[ns]     \n",
      " 14  IS_COLLAB     bool               \n",
      " 15  COLLABORATOR  object             \n",
      "dtypes: bool(1), category(1), datetime64[ns, UTC](1), datetime64[ns](1), float64(2), object(10)\n",
      "memory usage: 820.9+ MB\n"
     ]
    }
   ],
   "source": [
    "df.info()"
   ]
  },
  {
   "cell_type": "code",
   "execution_count": 142,
   "metadata": {},
   "outputs": [],
   "source": [
    "# Assuming your cleaned DataFrame is named df\n",
    "df.to_csv('cleaned_data.csv', index=False)"
   ]
  }
 ],
 "metadata": {
  "kernelspec": {
   "display_name": "Python 3",
   "language": "python",
   "name": "python3"
  },
  "language_info": {
   "codemirror_mode": {
    "name": "ipython",
    "version": 3
   },
   "file_extension": ".py",
   "mimetype": "text/x-python",
   "name": "python",
   "nbconvert_exporter": "python",
   "pygments_lexer": "ipython3",
   "version": "3.11.7"
  }
 },
 "nbformat": 4,
 "nbformat_minor": 2
}
